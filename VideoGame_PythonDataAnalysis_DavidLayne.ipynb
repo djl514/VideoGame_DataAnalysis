{
  "nbformat": 4,
  "nbformat_minor": 0,
  "metadata": {
    "colab": {
      "provenance": [],
      "authorship_tag": "ABX9TyNdvz8UnMOqVQsTzbme2Bjz",
      "include_colab_link": true
    },
    "kernelspec": {
      "name": "python3",
      "display_name": "Python 3"
    },
    "language_info": {
      "name": "python"
    }
  },
  "cells": [
    {
      "cell_type": "markdown",
      "metadata": {
        "id": "view-in-github",
        "colab_type": "text"
      },
      "source": [
        "<a href=\"https://colab.research.google.com/github/djl514/VideoGame_DataAnalysis/blob/main/VideoGame_PythonDataAnalysis_DavidLayne.ipynb\" target=\"_parent\"><img src=\"https://colab.research.google.com/assets/colab-badge.svg\" alt=\"Open In Colab\"/></a>"
      ]
    },
    {
      "cell_type": "markdown",
      "source": [
        "#Video Game Data Analysis"
      ],
      "metadata": {
        "id": "nArlj_N_Nwpj"
      }
    },
    {
      "cell_type": "markdown",
      "source": [
        "##Introduction:\n",
        "\n",
        "In this Python Notebook I seek to test myself with the very building blocks of the language. Creating a comprehensive dictionary containing data on various video games with information on the name, price, system, dlc, and series of each game."
      ],
      "metadata": {
        "id": "l0cNoAiFNhsJ"
      }
    },
    {
      "cell_type": "markdown",
      "source": [
        "####Game Data"
      ],
      "metadata": {
        "id": "_TihpovDfLHV"
      }
    },
    {
      "cell_type": "code",
      "source": [
        "#creating a dictionary\n",
        "#nested dictionaries within along with nested lists\n",
        "\n",
        "#Game ID, name, system, price, series (if in a series true and seriesInfo, else false), dlc (if applicable True and dlcInfo, else False)\n",
        "\n",
        "game_data = {\n",
        "    \"G000\": {\n",
        "        \"name\": \"Super Mario Odyssey\",\n",
        "        \"system\": \"Switch\",\n",
        "        \"price\": 59.99,\n",
        "        \"series\": True,\n",
        "        \"seriesInfo\": [\n",
        "            'Super Mario 64',\n",
        "            'Super Mario Sunshine',\n",
        "            'Super Mario Galaxy'\n",
        "            ],\n",
        "        \"dlc\": False\n",
        "    },\n",
        "    \"G001\": {\n",
        "        \"name\": \"The Legend of Zelda: Breath of the Wild\",\n",
        "        \"system\": \"Switch\",\n",
        "        \"price\": 59.99,\n",
        "        \"series\": True,\n",
        "        \"seriesInfo\": [\n",
        "            'The Legend of Zelda', 'The Legend of Zelda: The Adventure of Link', 'The Legend of Zelda: A Link to the Past',\n",
        "            'The Legend of Zelda: Links Awakening', 'The Legend of Zelda: Ocarina of Time', 'The Legend of Zelda: Majoras Mask',\n",
        "            'The Legend of Zelda: The Wind Waker', 'The Legend of Zelda: Twilight Princess', 'The Legend of Zelda: Skyward Sword'\n",
        "            ],\n",
        "        \"dlc\": False\n",
        "    },\n",
        "    \"G002\": {\n",
        "        \"name\": \"Mario Kart 8 Deluxe\",\n",
        "        \"system\": \"Switch\",\n",
        "        \"price\": 59.99,\n",
        "        \"series\": True,\n",
        "        \"seriesInfo\": [\n",
        "            'Super Mario Kart', 'Mario Kart 64', 'Mario Kart Super Circuit', 'Mario Kart Double Dash!!',\n",
        "            'Mario Kart Wii','Mario Kart DS', 'Mario Kart 7', 'Mario Kart 8'\n",
        "            ],\n",
        "        \"dlc\": False\n",
        "        },\n",
        "    \"G003\": {\n",
        "        \"name\": \"Cuphead\",\n",
        "        \"system\": \"Switch\",\n",
        "        \"price\": 19.99,\n",
        "        \"series\": False,\n",
        "        \"dlc\": True,\n",
        "        \"dlcInfo\": {\n",
        "            \"dlc1\":{\n",
        "              \"name\": \"The Delicious Last Course\",\n",
        "              \"price\": 14.99\n",
        "            }}\n",
        "        },\n",
        "    \"G004\": {\n",
        "        \"name\": \"Hollow Knight\",\n",
        "        \"system\": \"Switch\",\n",
        "        \"price\": 19.99,\n",
        "        \"series\": False,\n",
        "        \"dlc\": True,\n",
        "        \"dlcInfo\": {\n",
        "            \"dlc1\": {\n",
        "                \"name\": \"God Home\",\n",
        "                \"price\": 0\n",
        "                },\n",
        "            \"dlc2\": {\n",
        "                \"name\": \"The Grimm Troupe\",\n",
        "                \"price\": 0\n",
        "                },\n",
        "            \"dlc3\": {\n",
        "                \"name\": \"Hidden Dreams\",\n",
        "                \"price\": 0\n",
        "                },\n",
        "            \"dlc4\": {\n",
        "                \"name\": \"Lifeblood\",\n",
        "                \"price\": 0\n",
        "                }}\n",
        "          },\n",
        "    \"G005\": {\n",
        "        \"name\": \"Super Mario 3D World\",\n",
        "        \"system\": \"Switch\",\n",
        "        \"price\": 59.99,\n",
        "        \"series\": True,\n",
        "        \"seriesInfo\": ['Super Mario 3D Land'],\n",
        "        \"dlc\": True,\n",
        "         \"dlcInfo\": {\n",
        "             \"dlc1\":{\n",
        "                 \"name\": \"Bowser's Fury\",\n",
        "                 \"price\": 19.99\n",
        "            }}\n",
        "        },\n",
        "    \"G006\": {\n",
        "        \"name\": \"Stardew Valley\",\n",
        "        \"system\": \"Switch\",\n",
        "        \"price\": 29.99,\n",
        "        \"series\": False,\n",
        "        \"dlc\": False\n",
        "    }\n",
        "\n",
        "}"
      ],
      "metadata": {
        "id": "_r0_rMn7RBZV"
      },
      "execution_count": null,
      "outputs": []
    },
    {
      "cell_type": "markdown",
      "source": [
        "###Functions to return games with DLCs and Series Information"
      ],
      "metadata": {
        "id": "n3fSfHAyfNxd"
      }
    },
    {
      "cell_type": "code",
      "source": [
        "#function to return all games with DLC and lists each DLC for each game and returns total price of games and dlc\n",
        "\n",
        "def game_dlc(data):\n",
        "  total_price = 0\n",
        "\n",
        "  print('Games with DLC')\n",
        "  print(20*'-')\n",
        "\n",
        "  for game, info in data.items():\n",
        "    if info['dlc'] == True:\n",
        "      print(f\"Name: {info['name']}\\nPrice: ${info['price']}\\nSystem: {info['system']}\")\n",
        "      total_price += info['price']\n",
        "\n",
        "      for key, dlc in info['dlcInfo'].items():\n",
        "        print(f\"\\tDLC Name: {dlc['name']}\\n\\tDLC Price: ${dlc['price']}\")\n",
        "        total_price += dlc['price']\n",
        "      print(f'Total Price: ${total_price:.2f}')\n",
        "      print('\\n')\n",
        "      total_price = 0\n",
        "\n",
        "game_dlc(game_data)"
      ],
      "metadata": {
        "colab": {
          "base_uri": "https://localhost:8080/"
        },
        "id": "sC9_NglqVFO9",
        "outputId": "8c28c931-eade-4ae2-fdb1-3225ac00ddff"
      },
      "execution_count": null,
      "outputs": [
        {
          "output_type": "stream",
          "name": "stdout",
          "text": [
            "Games with DLC\n",
            "--------------------\n",
            "Name: Cuphead\n",
            "Price: $19.99\n",
            "System: Switch\n",
            "\tDLC Name: The Delicious Last Course\n",
            "\tDLC Price: $14.99\n",
            "Total Price: $34.98\n",
            "\n",
            "\n",
            "Name: Hollow Knight\n",
            "Price: $19.99\n",
            "System: Switch\n",
            "\tDLC Name: God Home\n",
            "\tDLC Price: $0\n",
            "\tDLC Name: The Grimm Troupe\n",
            "\tDLC Price: $0\n",
            "\tDLC Name: Hidden Dreams\n",
            "\tDLC Price: $0\n",
            "\tDLC Name: Lifeblood\n",
            "\tDLC Price: $0\n",
            "Total Price: $19.99\n",
            "\n",
            "\n",
            "Name: Super Mario 3D World\n",
            "Price: $59.99\n",
            "System: Switch\n",
            "\tDLC Name: Bowser's Fury\n",
            "\tDLC Price: $19.99\n",
            "Total Price: $79.98\n",
            "\n",
            "\n"
          ]
        }
      ]
    },
    {
      "cell_type": "code",
      "source": [
        "#function to print games within a series, that game information along with the number of games in the series\n",
        "def game_series(data):\n",
        "  print('Games in a Series')\n",
        "  print(20*'-')\n",
        "\n",
        "  for game, info in data.items():\n",
        "    if info['series'] == True:\n",
        "      print(f\"Name: {info['name']}\\nPrice: ${info['price']}\\nSystem: {info['system']}\")\n",
        "      print(\"Games in the Series:\")\n",
        "\n",
        "      for series in info['seriesInfo']:\n",
        "        print('\\t',series)\n",
        "\n",
        "      print(f\"Number of Games in the Series: {len(info['seriesInfo'])}\")\n",
        "\n",
        "game_series(game_data)"
      ],
      "metadata": {
        "colab": {
          "base_uri": "https://localhost:8080/"
        },
        "id": "CJagETj-hDtn",
        "outputId": "9f5263cd-7ca5-41b1-834b-92e7517ab94b"
      },
      "execution_count": null,
      "outputs": [
        {
          "output_type": "stream",
          "name": "stdout",
          "text": [
            "Games in a Series\n",
            "--------------------\n",
            "Name: Super Mario Odyssey\n",
            "Price: $59.99\n",
            "System: Switch\n",
            "Games in the Series:\n",
            "\t Super Mario 64\n",
            "\t Super Mario Sunshine\n",
            "\t Super Mario Galaxy\n",
            "Number of Games in the Series: 3\n",
            "Name: The Legend of Zelda: Breath of the Wild\n",
            "Price: $59.99\n",
            "System: Switch\n",
            "Games in the Series:\n",
            "\t The Legend of Zelda\n",
            "\t The Legend of Zelda: The Adventure of Link\n",
            "\t The Legend of Zelda: A Link to the Past\n",
            "\t The Legend of Zelda: Links Awakening\n",
            "\t The Legend of Zelda: Ocarina of Time\n",
            "\t The Legend of Zelda: Majoras Mask\n",
            "\t The Legend of Zelda: The Wind Waker\n",
            "\t The Legend of Zelda: Twilight Princess\n",
            "\t The Legend of Zelda: Skyward Sword\n",
            "Number of Games in the Series: 9\n",
            "Name: Mario Kart 8 Deluxe\n",
            "Price: $59.99\n",
            "System: Switch\n",
            "Games in the Series:\n",
            "\t Super Mario Kart\n",
            "\t Mario Kart 64\n",
            "\t Mario Kart Super Circuit\n",
            "\t Mario Kart Double Dash!!\n",
            "\t Mario Kart Wii\n",
            "\t Mario Kart DS\n",
            "\t Mario Kart 7\n",
            "\t Mario Kart 8\n",
            "Number of Games in the Series: 8\n",
            "Name: Super Mario 3D World\n",
            "Price: $59.99\n",
            "System: Switch\n",
            "Games in the Series:\n",
            "\t Super Mario 3D Land\n",
            "Number of Games in the Series: 1\n"
          ]
        }
      ]
    },
    {
      "cell_type": "markdown",
      "source": [
        "####User Shopping Cart and Receipt:\n",
        "\n",
        "Function serving as a shopping cart for the user, giving them the option to add a game to a cart and purchase the corresponding DLC if applicable. The loop ends when the user types checkout."
      ],
      "metadata": {
        "id": "vT8dy5icRHRM"
      }
    },
    {
      "cell_type": "code",
      "source": [
        "#function to create an order and print a receipt\n",
        "orders = []\n",
        "\n",
        "def shopping_cart(data):\n",
        "  total_price = 0\n",
        "\n",
        "  while True:\n",
        "    print(\"Game catalog\")\n",
        "\n",
        "    for game_ID, info in data.items():\n",
        "      print(f\"{game_ID}: {info['name']}\")\n",
        "\n",
        "    while True:\n",
        "      action = input(\"add or checkout: \")\n",
        "\n",
        "      if action == 'add':\n",
        "        game_ID = input('Enter a Game ID: ')\n",
        "        if game_ID not in data:\n",
        "          break\n",
        "        else:\n",
        "          print(f\"{data[game_ID]['name']}\\nPrice: ${data[game_ID]['price']}\\nDLC Status: {data[game_ID]['dlc']}\")\n",
        "          total_price += data[game_ID]['price']\n",
        "\n",
        "        while True:\n",
        "          if data[game_ID]['dlc'] == True:\n",
        "\n",
        "            for dlc_ID, info in data[game_ID]['dlcInfo'].items():\n",
        "              print(f\"{dlc_ID}: {info['name']}\")\n",
        "\n",
        "            dlc_ID = input('Enter a DLC id: ')\n",
        "\n",
        "            if dlc_ID not in data[game_ID]['dlcInfo']:\n",
        "              break\n",
        "            else:\n",
        "              print(f\"Name: {data[game_ID]['dlcInfo'][dlc_ID]['name']}\\nPrice: ${data[game_ID]['dlcInfo'][dlc_ID]['price']}\")\n",
        "\n",
        "            dlc_info = input(\"Would you buy the DLC? (y/n) \")\n",
        "\n",
        "            if dlc_info == 'y':\n",
        "              total_price += data[game_ID]['dlcInfo'][dlc_ID]['price']\n",
        "              print('Game Added to order')\n",
        "              orders.append({\n",
        "                  'name': data[game_ID]['name'],\n",
        "                  'price': total_price,\n",
        "              })\n",
        "              break\n",
        "\n",
        "            else:\n",
        "              print('DlC ignored, Game Added to order')\n",
        "              orders.append({\n",
        "                'name': data[game_ID]['name'],\n",
        "                'price': total_price\n",
        "              })\n",
        "              break\n",
        "\n",
        "          else:\n",
        "            print('No DLC available, Game added to order')\n",
        "            total_price += data[game_ID]['price']\n",
        "            orders.append({\n",
        "              'name': data[game_ID]['name'],\n",
        "              'price': total_price\n",
        "              })\n",
        "            break\n",
        "\n",
        "      elif action =='checkout':\n",
        "        print(\"Order Summary\")\n",
        "        print(20*\"-\")\n",
        "        for order in orders:\n",
        "          print(f\"{order['name']}\")\n",
        "          total_price = 0\n",
        "          total_price += order['price']\n",
        "        print(total_price)\n",
        "        break\n",
        "\n",
        "      else:\n",
        "        print(\"ERROR! Try Again\")\n",
        "        continue\n",
        "    break\n",
        "\n",
        "\n",
        "\n",
        "shopping_cart(game_data)"
      ],
      "metadata": {
        "colab": {
          "base_uri": "https://localhost:8080/"
        },
        "id": "szwG95PWocHI",
        "outputId": "2854398c-0971-43f3-e0bf-3e6cdfb4b93d"
      },
      "execution_count": null,
      "outputs": [
        {
          "output_type": "stream",
          "name": "stdout",
          "text": [
            "Game catalog\n",
            "G000: Super Mario Odyssey\n",
            "G001: The Legend of Zelda: Breath of the Wild\n",
            "G002: Mario Kart 8 Deluxe\n",
            "G003: Cuphead\n",
            "G004: Hollow Knight\n",
            "G005: Super Mario 3D World\n",
            "G006: Stardew Valley\n",
            "add or checkout: add\n",
            "Enter a Game ID: G003\n",
            "Cuphead\n",
            "Price: $19.99\n",
            "DLC Status: True\n",
            "dlc1: The Delicious Last Course\n",
            "Enter a DLC id: dlc1\n",
            "Name: The Delicious Last Course\n",
            "Price: $14.99\n",
            "Would you buy the DLC? (y/n) y\n",
            "Game Added to order\n",
            "add or checkout: checkout \n",
            "ERROR! Try Again\n",
            "add or checkout: checkout\n",
            "Order Summary\n",
            "--------------------\n",
            "Cuphead\n",
            "34.98\n"
          ]
        }
      ]
    },
    {
      "cell_type": "code",
      "source": [],
      "metadata": {
        "id": "PIJ9t-UJPh2e"
      },
      "execution_count": null,
      "outputs": []
    }
  ]
}